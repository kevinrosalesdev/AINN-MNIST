{
  "nbformat": 4,
  "nbformat_minor": 0,
  "metadata": {
    "colab": {
      "name": "mnist_neuralnet.ipynb",
      "version": "0.3.2",
      "provenance": []
    },
    "language_info": {
      "codemirror_mode": {
        "name": "ipython",
        "version": 3
      },
      "file_extension": ".py",
      "mimetype": "text/x-python",
      "name": "python",
      "nbconvert_exporter": "python",
      "pygments_lexer": "ipython3",
      "version": "3.6.8"
    },
    "kernelspec": {
      "name": "python3",
      "display_name": "Python 3"
    },
    "accelerator": "GPU"
  },
  "cells": [
    {
      "metadata": {
        "id": "VsFXt5F8e4Fp",
        "colab_type": "text"
      },
      "cell_type": "markdown",
      "source": [
        "# Redes Neuronales\n",
        "\n",
        "Una red neuronal es un clasificador. Su funcionamiento se basa en la combinación de hiperplanos que acotan regiones de activación del espacio de muestras.\n",
        "\n",
        "\n",
        "### Mini-batch\n",
        "\n",
        "En cada ciclo de actualización de los pesos de la red no es necesario calcular el gradiente de descenso para cada muestra. Basta con escoger un lote variado de muestras (mini-batch) y calcular el gradiente resultante de éste. \n",
        "\n",
        "### Loss\n",
        "\n",
        "La pérdida o *loss* es el valor o error resultante de comparar las predicciones de la red con las etiquetas de las muestras.\n",
        "\n",
        "### One-hot\n",
        "\n",
        "Cuando se clasifica en más de dos categorías es necesario que la red tenga tantas neuronas en la capa de salida como clases haya. Por tanto, la activación de cada una de estas neuronas de salida corresponderá con una clase. Por ejemplo, si la red tiene cuatro salidas y se activa la tercera, el vector resultante podría ser algo como: [0.002,0.008,0.95,0.04]. Como normalmente las etiquetas de las muestras están en un formato numérico entero (0,1,2,3...), no podremos realizar la comparación de las salidas con las etiquetas. Así que transformamos la etiqueta en un vector de todo ceros excepto el lugar correspondiente a la etiqueta, el cual tendrá un valor de 1. Por ejemplo: $2\\rightarrow [0,0,1,0]$. (Recordemos que las etiquetas comienzan en 0). Esta función de transformación se denomina **One-hot**.\n",
        "\n",
        "### Época\n",
        "\n",
        "Cada vez que entrenamos una red con todos los lotes o *mini-batches* de nuestro dataset de entrenamiento decimos que hemos completado una **época**. Durante el proceso de entrenamiento de una red se suelen completar múltiples épocas.\n",
        "\n",
        "### Softmax\n",
        "\n",
        "La función softmax es parecida a la sigmoide, ésta también convierte un valor entre menos infinito y más infinito en un valor entre cero y uno. La diferencia está en que la función softmax no trabaja sobre un valor sino sobre un vector. De esta forma, convierte todas las componentes de un vector en valores entre cero y uno, pero, además, garantiza que la suma de todos estos valores sea uno. La función softmax se emplea en la capa de salida de una red, y convierte de esta forma sus salidas en una distribución de probabilidades.\n",
        "\n",
        "$$ Softmax(\\textbf{v})_i = \\frac{e^{v_i}}{\\sum_{j=1}^{n} e^{v_j}} $$\n",
        "\n",
        "\n",
        "## Dataset Iris\n",
        "\n",
        "El dataset iris corresponde a un conjunto de 150 muestras pertenecientes a 3 categorías de flor del iris distintas (versicolor, virgínica y setosa). Estas 3 especies se pueden diferenciar por el ancho y alto de su pétalo y su sépalo. Vamos a construir una red que nos permita clasificar este dataset. Para ello utilizaremos 5 neuronas en una capa oculta y 3 neuronas en la capa de salida, ya que son 3 clases. \n",
        "\n"
      ]
    },
    {
      "metadata": {
        "id": "RoH5qeRke4Fs",
        "colab_type": "text"
      },
      "cell_type": "markdown",
      "source": [
        "https://keras.io/\n",
        "\n",
        "\n",
        "Keras es una API de redes neuronales de alto nivel, escrita en Python y capaz de ejecutarse sobre TensorFlow, CNTK o Theano. Fue desarrollado con la idea de permitir la experimentación rápida, poder pasar de la idea al resultado en el menor tiempo posible.\n",
        "\n",
        "Instala <a href=\"https://www.tensorflow.org/install\">Tensorflow</a> y <a href=\"https://keras.io/#installation\">Keras</a> y veamos cómo montar una red en Keras para clasificar el dataset Iris. En primer lugar importamos el dataset. La función `LabelBinarizer` nos convertirá las etiquetas numéricas enteras a codificación one-hot. La función *train_test_split()* nos divide el dataset con un 75% para el entrenamiento y un 25% para el test. "
      ]
    },
    {
      "metadata": {
        "id": "jOdRXu5we4Fu",
        "colab_type": "code",
        "colab": {}
      },
      "cell_type": "code",
      "source": [
        "import numpy as np\n",
        "from sklearn.datasets import load_iris\n",
        "from sklearn.model_selection import train_test_split\n",
        "from sklearn.preprocessing import LabelBinarizer\n",
        "\n",
        "#load the iris dataset\n",
        "iris = load_iris()\n",
        "\n",
        "X = iris.data\n",
        "encoder = LabelBinarizer()\n",
        "y = encoder.fit_transform(iris.target)  # We transform to one-hot\n",
        "X_train, X_test, y_train, y_test = train_test_split(X, y, test_size=0.25)"
      ],
      "execution_count": 0,
      "outputs": []
    },
    {
      "metadata": {
        "id": "dUA3o1xee4F0",
        "colab_type": "text"
      },
      "cell_type": "markdown",
      "source": [
        "Creamos la red con la capa de entrada correspondiente a los cuatro valores de cada muestra. Una capa oculta de cinco neuronas y una capa de salida de tres neuronas. Aplicamos la función de activación *sigmoide* para la capa oculta y, dado que tenemos más de dos clases, softmax para la salida. Utilizamos Stochastic Gradient Descent como método optimizador con un learning rate de 0.1."
      ]
    },
    {
      "metadata": {
        "id": "Ej_TOATve4F1",
        "colab_type": "code",
        "colab": {}
      },
      "cell_type": "code",
      "source": [
        "import keras\n",
        "from keras.layers import Input, Dense\n",
        "from keras.models import Model\n",
        "from keras.optimizers import SGD #Stochastic Gradient Descent Optimizer\n",
        "\n",
        "inputs = Input(shape=(4,))  # We have four inputs\n",
        "x = Dense(5, activation='sigmoid')(inputs)  # five neurons and sigmoid as activation function\n",
        "predictions = Dense(3, activation='softmax')(x)  # Output layer with three neurons, one for each class\n",
        "\n",
        "# This creates a model\n",
        "model = Model(inputs=inputs, outputs=predictions)\n",
        "sgd = SGD(lr=0.1)\n",
        "model.compile(optimizer=sgd,\n",
        "              loss='mse',  # Mean Squared Error\n",
        "              metrics=['accuracy'])\n",
        "\n",
        "print(model.summary())"
      ],
      "execution_count": 0,
      "outputs": []
    },
    {
      "metadata": {
        "id": "rAh6MWPZe4F6",
        "colab_type": "text"
      },
      "cell_type": "markdown",
      "source": [
        "Ahora ya solo queda entrenar nuestra red y ver qué resultados nos devuelve."
      ]
    },
    {
      "metadata": {
        "id": "fkN2uHWPe4F8",
        "colab_type": "code",
        "colab": {}
      },
      "cell_type": "code",
      "source": [
        "model.fit(X_train, y_train, epochs=500)  # starts training with 500 epochs"
      ],
      "execution_count": 0,
      "outputs": []
    },
    {
      "metadata": {
        "id": "ooPlnlg7e4GB",
        "colab_type": "text"
      },
      "cell_type": "markdown",
      "source": [
        "Vamos a ver qué valores de salida tenemos para algunas muestras."
      ]
    },
    {
      "metadata": {
        "id": "5Wm8QEg7e4GD",
        "colab_type": "code",
        "colab": {}
      },
      "cell_type": "code",
      "source": [
        "predictions = model.predict(X_test)\n",
        "for p, l in zip(predictions, y_test):\n",
        "    print(p,\"->\", l)"
      ],
      "execution_count": 0,
      "outputs": []
    },
    {
      "metadata": {
        "id": "1sVbTJd0e4GI",
        "colab_type": "text"
      },
      "cell_type": "markdown",
      "source": [
        "# Ejercicio práctico\n",
        "\n",
        "Basándote en el ejercicio anterior, construye una red que clasifique el conjunto MNIST. En el siguiente código ya tenemos el dataset preparado para introducirlo en nuestra red. Recuerda que el conjunto de entrenamiento del MNIST está formado por 60000 imágenes de dígitos manuscritos de 28x28 pixels.\n",
        "\n",
        "En este caso, se ha decidido no modificar el código que se tenía ya preparado ni ninguno de sus parámetros iniciales (batch_size, epochs...):"
      ]
    },
    {
      "metadata": {
        "id": "lI-iN2cSe4GJ",
        "colab_type": "code",
        "colab": {}
      },
      "cell_type": "code",
      "source": [
        "from keras.datasets import mnist\n",
        "import keras\n",
        "\n",
        "batch_size = 128\n",
        "num_classes = 10\n",
        "epochs = 5\n",
        "\n",
        "# the data, split between train and test sets\n",
        "(X_train, y_train), (X_test, y_test) = mnist.load_data()\n",
        "\n",
        "X_train = X_train.reshape(60000, 784)  # 28x28=784\n",
        "X_test = X_test.reshape(10000, 784)\n",
        "X_train = X_train.astype('float32')\n",
        "X_test = X_test.astype('float32')\n",
        "X_train /= 255  # We normalize to have values between 0 and 1\n",
        "X_test /= 255\n",
        "\n",
        "# convert class vectors to binary class matrices\n",
        "y_train = keras.utils.to_categorical(y_train, num_classes)  # onehot encoding\n",
        "y_test = keras.utils.to_categorical(y_test, num_classes)"
      ],
      "execution_count": 0,
      "outputs": []
    },
    {
      "metadata": {
        "id": "fTWLqqmLe4GO",
        "colab_type": "text"
      },
      "cell_type": "markdown",
      "source": [
        "Creamos la red con la capa de entrada correspondiente a los 784 valores de cada muestra. Tres capas ocultas (De 980, 500 y 17 neuronas) y una capa de salida de 10 neuronas. Aplicamos la función de activación 'relu' (Parecida a una rampa si x > 0) para las capas ocultas y, dado que tenemos más de dos clases, softmax para la salida. Utilizamos RMSProp como método optimizador con un LR adaptativo y medimos la pérdida con Categorical Crossentropy."
      ]
    },
    {
      "metadata": {
        "id": "UjdV7YZ8e4GQ",
        "colab_type": "code",
        "colab": {}
      },
      "cell_type": "code",
      "source": [
        "# To do...\n",
        "from keras.layers import Input, Dense\n",
        "from keras.models import Model\n",
        "from keras.optimizers import SGD #Stochastic Gradient Descent Optimizer\n",
        "\n",
        "inputs = Input(shape=(784,))  # We have 784 inputs\n",
        "x = Dense(1000, activation='relu')(inputs)  # 1000 neurons and relu as activation function\n",
        "y = Dense(500, activation='relu')(x) # 500 neurons and relu as activation function\n",
        "z = Dense(25, activation='relu')(y)  # 25 neurons and relu as activation function\n",
        "predictions = Dense(num_classes, activation='softmax')(z)  # Output layer with 10 neurons, one for each class\n",
        "\n",
        "# This creates a model\n",
        "model = Model(inputs=inputs, outputs=predictions)\n",
        "\n",
        "# Instead of using MSE as Loss & SGD as Optimizer, I used Categorical Crossentropy & RMSProp to get adaptive LR and better results.\n",
        "model.compile(optimizer='rmsprop',\n",
        "              loss='categorical_crossentropy',  # Categorical Crossentropy\n",
        "              metrics=['accuracy'])\n",
        "\n",
        "print(model.summary())"
      ],
      "execution_count": 0,
      "outputs": []
    },
    {
      "metadata": {
        "id": "24BRiNxbe4GZ",
        "colab_type": "text"
      },
      "cell_type": "markdown",
      "source": [
        "Ahora ya solo queda entrenar nuestra red y ver qué resultados nos devuelve."
      ]
    },
    {
      "metadata": {
        "id": "U30cMfHIe4Gb",
        "colab_type": "code",
        "colab": {}
      },
      "cell_type": "code",
      "source": [
        "model.fit(X_train, y_train, batch_size=batch_size, epochs=epochs)  # starts training with 5 epochs"
      ],
      "execution_count": 0,
      "outputs": []
    },
    {
      "metadata": {
        "id": "l9ekBnr1e4Gh",
        "colab_type": "text"
      },
      "cell_type": "markdown",
      "source": [
        "Vamos a ver qué valores de salida tenemos para algunas muestras. Además, se intenta sacar numéricamente cuántos resultados han sido positivos y cuántos han sido negativos. Ya que el set de 'Test' se encuentra separado al de 'Train', se puede visualizar si se ha realizado overfitting o no."
      ]
    },
    {
      "metadata": {
        "scrolled": true,
        "id": "TH9HutaQe4Gi",
        "colab_type": "code",
        "colab": {}
      },
      "cell_type": "code",
      "source": [
        "predictions = model.predict(X_test)\n",
        "import numpy\n",
        "correct = 0\n",
        "incorrect = 0\n",
        "for p, l in zip(predictions, y_test):\n",
        "    if l[numpy.where(p == p.max())] == 1:\n",
        "      correct += 1\n",
        "    else:\n",
        "      incorrect += 1\n",
        "    print(p,\"->\", l)\n",
        "print(\"Aciertos = \", correct)\n",
        "print(\"Fallos = \", incorrect)"
      ],
      "execution_count": 0,
      "outputs": []
    }
  ]
}